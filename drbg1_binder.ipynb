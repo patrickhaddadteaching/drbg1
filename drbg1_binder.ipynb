{
  "nbformat": 4,
  "nbformat_minor": 0,
  "metadata": {
    "colab": {
      "name": "drbg1_binder.ipynb",
      "provenance": [],
      "collapsed_sections": []
    },
    "kernelspec": {
      "name": "python3",
      "display_name": "Python 3"
    },
    "language_info": {
      "name": "python"
    }
  },
  "cells": [
    {
      "cell_type": "code",
      "metadata": {
        "colab": {
          "base_uri": "https://localhost:8080/"
        },
        "id": "uHS-sw903aOA",
        "outputId": "4e4ad574-4a19-4288-b500-27f49cea39a6"
      },
      "source": [
        "#from os import system\n",
        "#system('pip install pycryptodome') "
      ],
      "execution_count": null,
      "outputs": [
        {
          "output_type": "execute_result",
          "data": {
            "text/plain": [
              "0"
            ]
          },
          "metadata": {
            "tags": []
          },
          "execution_count": 1
        }
      ]
    },
    {
      "cell_type": "code",
      "metadata": {
        "id": "2mFkS4b7j5Wk"
      },
      "source": [
        "import numpy as np\n",
        "import wave\n",
        "from IPython.display import display, Audio\n",
        "from ipywidgets import  interact_manual,interact, fixed, widgets\n",
        "import functools\n",
        "from os import remove, path,system\n",
        "from Crypto.Cipher import AES"
      ],
      "execution_count": null,
      "outputs": []
    },
    {
      "cell_type": "code",
      "metadata": {
        "id": "x8O6fHwn5cZV"
      },
      "source": [
        "\n",
        "def encrypt_16bytes(key,plain):\n",
        "  o_encrypt = AES.new(key.tobytes(), AES.MODE_ECB)\n",
        "  cipher = np.frombuffer(o_encrypt.encrypt(plain.tobytes()),dtype=np.uint8)\n",
        "  return cipher\n",
        "\n",
        "def u(a,b):\n",
        "  return encrypt_16bytes(b,a)\n",
        "  \n",
        "def drbg_bck_no_fwd(seed,nb_rnd):\n",
        "  v_internal_state=np.zeros((2,16),dtype=np.uint8)\n",
        "  v_internal_state[0,:]=seed[:16]\n",
        "  v_internal_state[1,:]=seed[16:]\n",
        "  v_internal_r=np.zeros((nb_rnd*16),dtype=np.uint8)\n",
        "  for i in range(nb_rnd):\n",
        "    v_key=v_internal_state[1,:]\n",
        "    v_plain=v_internal_state[0,:]\n",
        "    v_cipher=encrypt_16bytes(v_key,v_plain)  \n",
        "    v_internal_r[i*16:i*16+16]=v_internal_state[1,:]\n",
        "    v_internal_state[1,:]=v_internal_state[0,:]\n",
        "    v_internal_state[0,:]=v_cipher\n",
        "  return v_internal_r\n"
      ],
      "execution_count": null,
      "outputs": []
    },
    {
      "cell_type": "code",
      "metadata": {
        "id": "dMLDDvIFj6yP"
      },
      "source": [
        "music_file_name='%d.wav'%(np.random.randint(0,10,dtype=np.uint8))\n",
        "#a=system('wget http://patrickhaddad.xyz/data/wavs/%s'%(music_file_name))",
        "a=system('wget https://github.com/patrickhaddadteaching/drbg1/upload/main/wavs/%s'%(music_file_name))"
      ],
      "execution_count": null,
      "outputs": []
    },
    {
      "cell_type": "code",
      "metadata": {
        "id": "VuWUyF5nkK64"
      },
      "source": [
        "obj = wave.open(music_file_name,'r')\n",
        "Number_of_frames=obj.getnframes()\n",
        "sampwidth=obj.getsampwidth()\n",
        "sampleRate = obj.getframerate()\n",
        "v_frames=np.frombuffer(obj.readframes(Number_of_frames),dtype=np.uint8)\n",
        "nb_traces=int((v_frames.shape[0]/16))\n",
        "obj.close()\n",
        "v_frames_to_encrypt=np.zeros(((8+nb_traces)*16,),dtype=np.uint8)\n",
        "v_frames_to_encrypt[64:16*nb_traces+64]=v_frames[:nb_traces*16]\n",
        "\n",
        "v_seed=np.random.randint(0,256,32,dtype=np.uint8)\n",
        "v_mask=drbg_bck_no_fwd(v_seed,int((v_frames_to_encrypt.shape[0]/16)))\n",
        "encrypted_msg=v_mask^v_frames_to_encrypt\n",
        "np.save('encrypted_msg.npy',encrypted_msg)"
      ],
      "execution_count": null,
      "outputs": []
    },
    {
      "cell_type": "code",
      "metadata": {
        "id": "O9gzDrrxkd00"
      },
      "source": [
        "log_screen=widgets.Text(value='Un des choix n est pas fait',description='', disabled=True,layout=widgets.Layout(width='256px'),font_size=12)\n",
        "log2_screen=widgets.Text(value='aucun fichier dans le lecteur',description='', disabled=True,layout=widgets.Layout(width='256px'),font_size=12)\n",
        "global un_choix_non_fait\n",
        "un_choix_non_fait=True\n",
        "def generate_python_file(nb_traces_i,p0,p1,p2,p3,p4,s0,s1,s2,s3,s4):\n",
        "  global un_choix_non_fait\n",
        "  if (p0!=' ') & (p1!=' ') & (p2!=' ') & (p3!=' ') & (p4!=' ') & (s0!=' ') & (s1!=' ') & (s2!=' ') & (s3!=' ') & (s4!=' ') :\n",
        "    \n",
        "    log_screen.value=''\n",
        "    log2_screen.value='aucun fichier dans le lecteur'\n",
        "    fid=open('python_file_to_run.py','w')\n",
        "\n",
        "    s_line=\"import numpy as np\\nfrom Crypto.Cipher import AES\\nencrypted_msg=np.load('encrypted_msg.npy')[:%d]\\n\"%(nb_traces_i*16)\n",
        "    fid.write(s_line)\n",
        "\n",
        "    s_line=\"def u(a,b):\\n\"\n",
        "    fid.write(s_line)\n",
        "\n",
        "    s_line=\"\\to_encrypt = AES.new(b.tobytes(), AES.MODE_ECB)\\n\"\n",
        "    fid.write(s_line)\n",
        "\n",
        "    s_line=\"\\tcipher = np.frombuffer(o_encrypt.encrypt(a.tobytes()),dtype=np.uint8)\\n\"\n",
        "    fid.write(s_line)\n",
        "\n",
        "    s_line=\"\\treturn cipher\\n\"\n",
        "    fid.write(s_line)\n",
        "\n",
        "    s_line=\"R=np.zeros((%d,16),dtype=np.uint8)\\n\"%nb_traces_i\n",
        "    fid.write(s_line)\n",
        "\n",
        "    s_line=\"R[0,:]=encrypted_msg[%d:%d]\\n\"%(16*int(p0),16*(int(p0)+1))\n",
        "    fid.write(s_line)\n",
        "\n",
        "    s_line=\"R[1,:]=encrypted_msg[%d:%d]\\n\"%(16*int(p1),16*(int(p1)+1))\n",
        "    fid.write(s_line)\n",
        "\n",
        "    s_line=\"S2=R[%d,:]\\n\"%(int(p2))\n",
        "    fid.write(s_line)\n",
        "\n",
        "    s_line=\"S1=u(R[%d,:],R[%d,:])\\n\"%(int(p3),int(p4))\n",
        "    fid.write(s_line)\n",
        "\n",
        "    s_line=\"for i in range(%d):\\n\"%(nb_traces_i-1)\n",
        "    fid.write(s_line)\n",
        "\n",
        "    s_line=\"\\tout=u(%s,%s)\\n\"%(s0,s1)\n",
        "    fid.write(s_line)\n",
        "\n",
        "    s_line=\"\\tR[i+1,:]=%s\\n\"%(s2)\n",
        "    fid.write(s_line)\n",
        "\n",
        "    s_line=\"\\tS2=%s\\n\"%(s3)\n",
        "    fid.write(s_line)\n",
        "\n",
        "    s_line=\"\\tS1=%s\\n\"%(s4)\n",
        "    fid.write(s_line)\n",
        "\n",
        "    s_line=\"R=R[:,:].reshape(%d)\\n\"%(nb_traces_i*16)\n",
        "    fid.write(s_line)\n",
        "\n",
        "    s_line=\"np.save('decrypted_msg.npy',R^encrypted_msg[:%d])\\n\"%(nb_traces_i*16)\n",
        "    fid.write(s_line)\n",
        "    fid.close()\n",
        "    if path.exists('decrypted_msg.npy'):\n",
        "      remove('decrypted_msg.npy')\n",
        "    log_screen.value='vous pouvez dechiffrer et ecouter'\n",
        "    \n",
        "    un_choix_non_fait=False\n",
        "  else:\n",
        "    log_screen.value='Un des choix n est pas fait'\n",
        "    un_choix_non_fait=True\n",
        "\n",
        "def Run_Dec_read():\n",
        "  global un_choix_non_fait\n",
        "  if (path.exists('decrypted_msg.npy')==False):\n",
        "    log2_screen.value='AUCUN FICHIER A LIRE'\n",
        "  else:      \n",
        "    remove('decrypted_msg.npy')\n",
        "  if un_choix_non_fait==False:\n",
        "    log2_screen.value='CHARGEMENT EN COURS'\n",
        "    system('python python_file_to_run.py')\n",
        "    v_audio_frames_in=np.load('decrypted_msg.npy')\n",
        "    sounddata=np.frombuffer(v_audio_frames_in.tobytes(),dtype='int64')\n",
        "    ret_audio=Audio(sounddata,rate=8000)\n",
        "    ret_audio.reload()\n",
        "    ret_audio.autoplay=True\n",
        "    display(ret_audio)\n",
        "    log2_screen.value='FICHIER PRET'\n",
        "    log_screen.value='vous pouvez appuyer sur play'\n",
        "  else:\n",
        "    log2_screen.value='Un des choix n est pas fait'"
      ],
      "execution_count": null,
      "outputs": []
    },
    {
      "cell_type": "code",
      "metadata": {
        "id": "V3pqt71vaOdf"
      },
      "source": [
        "print('********************* MESSAGE DE LA PLUS HAUTE IMPORTANCE *********************\\n')\n",
        "print('La variable encrypted_msg (un tableau de %dx16 bytes) est un message qui est protegee par un masque jetable\\n'%nb_traces)\n",
        "print('Cette protection est theoriquement impossible a casser\\n')\n",
        "\n",
        "print('Je sais seulement que le message protegee est fichier .wav \\n')\n",
        "print('il y a plus de 60 bytes au debut du fichier à  retouver qui sont 0x00\\n')\n",
        "print('de meme y a plus de 60 bytes a la fin du fichier à  retouver qui sont 0x00\\n')\n",
        "\n",
        "print('Une fois la protection cassée, tu pourras écouter la musique en utilisant le button \"Dechiffrer et Ecouter\"\\n')\n",
        "print('Elle a un seul parametre qui est la suite de bytes à lire\\n')\n",
        "\n",
        "print('La fonction u(a,b) est egallement disponible, je sais pas si cela te sera utile\\n')\n",
        "\n",
        "print('Allez je compte sur toi. On m a dit que t es le meilleur pour faire ce job\\n')"
      ],
      "execution_count": null,
      "outputs": []
    },
    {
      "cell_type": "code",
      "metadata": {
        "id": "6mbhL8Rdkguj"
      },
      "source": [
        "\n",
        "\n",
        "tm0=widgets.HTML(value=\"nb_block=\")\n",
        "wm0=widgets.IntSlider(min=1024*32, max=nb_traces, step=1024*32)\n",
        "hb0=widgets.HBox([tm0,wm0])\n",
        "\n",
        "t01=widgets.HTML(value=\"R=np.zeros((nb_block,16),dtype=np.uint8)\")\n",
        "hb01=widgets.HBox([t01])\n",
        "\n",
        "t1=widgets.HTML(value=\"R[0,:]=encrypted_msg[\")\n",
        "w1=widgets.Dropdown(options=[' ','0','1', '2', '3'],value=' ',disabled=False,layout=widgets.Layout(width='40px'))\n",
        "t11=widgets.HTML(value=\",<b>:</b>]\")\n",
        "hb1=widgets.HBox([t1,w1,t11])\n",
        "\n",
        "t2=widgets.HTML(value=\"R[1,:]=encrypted_msg[\")\n",
        "w2=widgets.Dropdown(options=[' ','0','1', '2', '3'],value=' ',disabled=False,layout=widgets.Layout(width='40px'))\n",
        "t21=widgets.HTML(value=\"<b>,:</b>]\")\n",
        "hb2=widgets.HBox([t2,w2,t21])\n",
        "\n",
        "t3=widgets.HTML(value=\"S2=R[\")\n",
        "w3=widgets.Dropdown(options=[' ','0','1', '2', '3'],value=' ',disabled=False,layout=widgets.Layout(width='40px'))\n",
        "t31=widgets.HTML(value=\"<b>,:</b>]\")\n",
        "hb3=widgets.HBox([t3,w3,t31])\n",
        "\n",
        "t4=widgets.HTML(value=\"S1=u(R[\")\n",
        "w4=widgets.Dropdown(options=[' ','0','1', '2', '3'],value=' ',disabled=False,layout=widgets.Layout(width='40px'))\n",
        "t41=widgets.HTML(value=\"<b>,:</b>],R[\")\n",
        "w41=widgets.Dropdown(options=[' ','0','1', '2', '3'],value=' ',disabled=False,layout=widgets.Layout(width='40px'))\n",
        "t42=widgets.HTML(value=\"<b>,:</b>])\")\n",
        "hb4=widgets.HBox([t4,w4,t41,w41,t42])\n",
        "\n",
        "t5=widgets.HTML(value=\"for i in range(nb_block-1):\")\n",
        "hb5=widgets.HBox([t5])\n",
        "\n",
        "t6=widgets.HTML(value=\"&nbsp &nbsp &nbsp &nbsp out=u(\")\n",
        "w6=widgets.Dropdown(options=[' ','R[i]','S1', 'S2','out'],value=' ',disabled=False,layout=widgets.Layout(width='50px'))\n",
        "t61=widgets.HTML(value=\"<b>,</b>\")\n",
        "w61=widgets.Dropdown(options=[' ','R[i]','S1', 'S2','out'],value=' ',disabled=False,layout=widgets.Layout(width='50px'))\n",
        "t62=widgets.HTML(value=\")\")\n",
        "hb6=widgets.HBox([t6,w6,t61,w61,t62])\n",
        "\n",
        "t7=widgets.HTML(value=\"&nbsp &nbsp &nbsp &nbsp R[i+1:]=\")\n",
        "w7=widgets.Dropdown(options=[' ','R[i]','S1', 'S2','out'],value=' ',disabled=False,layout=widgets.Layout(width='50px'))\n",
        "hb7=widgets.HBox([t7,w7])\n",
        "\n",
        "t8=widgets.HTML(value=\"&nbsp &nbsp &nbsp &nbsp S2=\")\n",
        "w8=widgets.Dropdown(options=[' ','R[i]','S1', 'S2','out'],value=' ',disabled=False,layout=widgets.Layout(width='50px'))\n",
        "hb8=widgets.HBox([t8,w8])\n",
        "\n",
        "t9=widgets.HTML(value=\"&nbsp &nbsp &nbsp &nbsp S1=\")\n",
        "w9=widgets.Dropdown(options=[' ','R[i]','S1', 'S2','out'],value=' ',disabled=False,layout=widgets.Layout(width='50px'))\n",
        "hb9=widgets.HBox([t9,w9])\n",
        "\n",
        "widgets.interactive_output(generate_python_file, {'nb_traces_i':wm0 ,'p0': w1, 'p1': w2, 'p2': w3, 'p3': w4, 'p4': w41, 's0': w6, 's1': w61, 's2': w7, 's3': w8, 's4': w9})\n",
        "\n",
        "v_vb1=[hb0,hb01,hb1,hb2,hb3,hb4,t5,hb6,hb7,hb8,hb9]\n",
        "\n",
        "out = widgets.Output()\n",
        "with out:\n",
        "  display(log_screen)\n",
        "v_vb1.append(out)\n",
        "\n",
        "out = widgets.Output()\n",
        "with out:\n",
        "  display(log2_screen)\n",
        "v_vb1.append(out)\n",
        "out = widgets.Output()\n",
        "with out:\n",
        "  im2=interact_manual(Run_Dec_read)\n",
        "  im2.widget.children[0].description='Dechiffrer et Ecouter'\n",
        "v_vb1.append(out)\n",
        "\n",
        "vb1=widgets.VBox(v_vb1)\n",
        "display(vb1)"
      ],
      "execution_count": null,
      "outputs": []
    },
    {
      "cell_type": "code",
      "metadata": {
        "id": "Z5G6NU3JZbQX"
      },
      "source": [
        ""
      ],
      "execution_count": null,
      "outputs": []
    }
  ]
}
